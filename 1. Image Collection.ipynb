{
 "cells": [
  {
   "cell_type": "markdown",
   "metadata": {},
   "source": [
    "# 1. Import Dependencies"
   ]
  },
  {
   "cell_type": "code",
   "execution_count": 17,
   "metadata": {},
   "outputs": [
    {
     "name": "stdout",
     "output_type": "stream",
     "text": [
      "Collecting opencv-python\n",
      "  Using cached opencv_python-4.9.0.80-cp37-abi3-win_amd64.whl.metadata (20 kB)\n",
      "Collecting numpy>=1.21.2 (from opencv-python)\n",
      "  Using cached numpy-1.26.4-cp312-cp312-win_amd64.whl.metadata (61 kB)\n",
      "Using cached opencv_python-4.9.0.80-cp37-abi3-win_amd64.whl (38.6 MB)\n",
      "Using cached numpy-1.26.4-cp312-cp312-win_amd64.whl (15.5 MB)\n",
      "Installing collected packages: numpy, opencv-python\n"
     ]
    },
    {
     "name": "stderr",
     "output_type": "stream",
     "text": [
      "Error processing line 1 of D:\\TensorFlow Project\\TFODCourse\\tfod\\Lib\\site-packages\\distutils-precedence.pth:\n",
      "\n",
      "  Traceback (most recent call last):\n",
      "    File \"<frozen site>\", line 195, in addpackage\n",
      "    File \"<string>\", line 1, in <module>\n",
      "  ModuleNotFoundError: No module named '_distutils_hack'\n",
      "\n",
      "Remainder of file ignored\n",
      "Error processing line 1 of D:\\TensorFlow Project\\TFODCourse\\tfod\\Lib\\site-packages\\distutils-precedence.pth:\n",
      "\n",
      "  Traceback (most recent call last):\n",
      "    File \"<frozen site>\", line 195, in addpackage\n",
      "    File \"<string>\", line 1, in <module>\n",
      "  ModuleNotFoundError: No module named '_distutils_hack'\n",
      "\n",
      "Remainder of file ignored\n",
      "ERROR: Could not install packages due to an OSError: [WinError 5] Access is denied: 'D:\\\\TensorFlow Project\\\\TFODCourse\\\\tfod\\\\Lib\\\\site-packages\\\\numpy\\\\core\\\\_multiarray_tests.cp312-win_amd64.pyd'\n",
      "Check the permissions.\n",
      "\n"
     ]
    }
   ],
   "source": [
    "!pip install opencv-python"
   ]
  },
  {
   "cell_type": "code",
   "execution_count": 2,
   "metadata": {},
   "outputs": [],
   "source": [
    "# Import opencv\n",
    "import cv2 \n",
    "\n",
    "# Import uuid\n",
    "import uuid\n",
    "\n",
    "# Import Operating System\n",
    "import os\n",
    "\n",
    "# Import time\n",
    "import time"
   ]
  },
  {
   "cell_type": "markdown",
   "metadata": {},
   "source": [
    "# 2. Define Images to Collect"
   ]
  },
  {
   "cell_type": "code",
   "execution_count": 9,
   "metadata": {},
   "outputs": [],
   "source": [
    "labels = ['thumbsup', 'thumbsdown', 'thankyou', 'livelong']\n",
    "labels = ['thumbsdown']\n",
    "number_imgs = 5"
   ]
  },
  {
   "cell_type": "markdown",
   "metadata": {},
   "source": [
    "# 3. Setup Folders "
   ]
  },
  {
   "cell_type": "code",
   "execution_count": 4,
   "metadata": {},
   "outputs": [],
   "source": [
    "IMAGES_PATH = os.path.join('Tensorflow', 'workspace', 'images', 'collectedimages')"
   ]
  },
  {
   "cell_type": "code",
   "execution_count": 5,
   "metadata": {},
   "outputs": [],
   "source": [
    "if not os.path.exists(IMAGES_PATH):\n",
    "    if os.name == 'posix':\n",
    "        !mkdir -p {IMAGES_PATH}\n",
    "    if os.name == 'nt':\n",
    "         !mkdir {IMAGES_PATH}\n",
    "for label in labels:\n",
    "    path = os.path.join(IMAGES_PATH, label)\n",
    "    if not os.path.exists(path):\n",
    "        !mkdir {path}"
   ]
  },
  {
   "cell_type": "markdown",
   "metadata": {},
   "source": [
    "# 4. Capture Images"
   ]
  },
  {
   "cell_type": "code",
   "execution_count": 10,
   "metadata": {},
   "outputs": [
    {
     "name": "stdout",
     "output_type": "stream",
     "text": [
      "Collecting images for thumbsdown\n",
      "Collecting image 0\n",
      "Collecting image 1\n",
      "Collecting image 2\n",
      "Collecting image 3\n",
      "Collecting image 4\n"
     ]
    }
   ],
   "source": [
    "for label in labels:\n",
    "    cap = cv2.VideoCapture(0)\n",
    "    print('Collecting images for {}'.format(label))\n",
    "    time.sleep(5)\n",
    "    for imgnum in range(number_imgs):\n",
    "        print('Collecting image {}'.format(imgnum))\n",
    "        ret, frame = cap.read()\n",
    "        imgname = os.path.join(IMAGES_PATH,label,label+'.'+'{}.jpg'.format(str(uuid.uuid1())))\n",
    "        cv2.imwrite(imgname, frame)\n",
    "        cv2.imshow('frame', frame)\n",
    "        time.sleep(2)\n",
    "\n",
    "        if cv2.waitKey(1) & 0xFF == ord('q'):\n",
    "            break\n",
    "cap.release()\n",
    "cv2.destroyAllWindows()"
   ]
  },
  {
   "cell_type": "markdown",
   "metadata": {},
   "source": [
    "# 5. Image Labelling"
   ]
  },
  {
   "cell_type": "code",
   "execution_count": 11,
   "metadata": {},
   "outputs": [
    {
     "name": "stdout",
     "output_type": "stream",
     "text": [
      "Collecting pyqt5\n",
      "  Downloading PyQt5-5.15.10-cp37-abi3-win_amd64.whl.metadata (2.2 kB)\n",
      "Collecting lxml\n",
      "  Downloading lxml-5.2.2-cp312-cp312-win_amd64.whl.metadata (3.5 kB)\n",
      "Collecting PyQt5-sip<13,>=12.13 (from pyqt5)\n",
      "  Downloading PyQt5_sip-12.13.0-cp312-cp312-win_amd64.whl.metadata (524 bytes)\n",
      "Collecting PyQt5-Qt5>=5.15.2 (from pyqt5)\n",
      "  Downloading PyQt5_Qt5-5.15.2-py3-none-win_amd64.whl.metadata (552 bytes)\n",
      "Downloading PyQt5-5.15.10-cp37-abi3-win_amd64.whl (6.8 MB)\n",
      "   ---------------------------------------- 0.0/6.8 MB ? eta -:--:--\n",
      "   ---------------------------------------- 0.0/6.8 MB 653.6 kB/s eta 0:00:11\n",
      "   - -------------------------------------- 0.2/6.8 MB 2.4 MB/s eta 0:00:03\n",
      "   -- ------------------------------------- 0.4/6.8 MB 3.3 MB/s eta 0:00:02\n",
      "   ----- ---------------------------------- 1.0/6.8 MB 5.7 MB/s eta 0:00:02\n",
      "   -------- ------------------------------- 1.4/6.8 MB 6.4 MB/s eta 0:00:01\n",
      "   ----------- ---------------------------- 1.9/6.8 MB 7.2 MB/s eta 0:00:01\n",
      "   ------------- -------------------------- 2.4/6.8 MB 7.6 MB/s eta 0:00:01\n",
      "   --------------- ------------------------ 2.7/6.8 MB 7.3 MB/s eta 0:00:01\n",
      "   ----------------- ---------------------- 2.9/6.8 MB 7.1 MB/s eta 0:00:01\n",
      "   ----------------- ---------------------- 3.1/6.8 MB 6.9 MB/s eta 0:00:01\n",
      "   ----------------- ---------------------- 3.1/6.8 MB 6.9 MB/s eta 0:00:01\n",
      "   ------------------- -------------------- 3.3/6.8 MB 6.0 MB/s eta 0:00:01\n",
      "   -------------------- ------------------- 3.5/6.8 MB 5.9 MB/s eta 0:00:01\n",
      "   --------------------- ------------------ 3.7/6.8 MB 5.8 MB/s eta 0:00:01\n",
      "   ----------------------- ---------------- 4.0/6.8 MB 5.7 MB/s eta 0:00:01\n",
      "   ------------------------ --------------- 4.2/6.8 MB 5.7 MB/s eta 0:00:01\n",
      "   ------------------------- -------------- 4.3/6.8 MB 5.7 MB/s eta 0:00:01\n",
      "   -------------------------- ------------- 4.6/6.8 MB 5.5 MB/s eta 0:00:01\n",
      "   ----------------------------- ---------- 5.0/6.8 MB 5.8 MB/s eta 0:00:01\n",
      "   ------------------------------ --------- 5.3/6.8 MB 5.8 MB/s eta 0:00:01\n",
      "   -------------------------------- ------- 5.6/6.8 MB 5.8 MB/s eta 0:00:01\n",
      "   ---------------------------------- ----- 5.9/6.8 MB 5.8 MB/s eta 0:00:01\n",
      "   ------------------------------------ --- 6.3/6.8 MB 5.9 MB/s eta 0:00:01\n",
      "   ------------------------------------- -- 6.4/6.8 MB 6.0 MB/s eta 0:00:01\n",
      "   ------------------------------------- -- 6.4/6.8 MB 6.0 MB/s eta 0:00:01\n",
      "   ------------------------------------- -- 6.4/6.8 MB 6.0 MB/s eta 0:00:01\n",
      "   ------------------------------------- -- 6.5/6.8 MB 5.3 MB/s eta 0:00:01\n",
      "   -------------------------------------- - 6.5/6.8 MB 5.1 MB/s eta 0:00:01\n",
      "   -------------------------------------- - 6.5/6.8 MB 5.1 MB/s eta 0:00:01\n",
      "   ---------------------------------------  6.7/6.8 MB 4.9 MB/s eta 0:00:01\n",
      "   ---------------------------------------- 6.8/6.8 MB 4.8 MB/s eta 0:00:00\n",
      "Downloading lxml-5.2.2-cp312-cp312-win_amd64.whl (3.8 MB)\n",
      "   ---------------------------------------- 0.0/3.8 MB ? eta -:--:--\n",
      "   -- ------------------------------------- 0.2/3.8 MB 14.7 MB/s eta 0:00:01\n",
      "   ------- -------------------------------- 0.7/3.8 MB 8.5 MB/s eta 0:00:01\n",
      "   ----------- ---------------------------- 1.1/3.8 MB 8.5 MB/s eta 0:00:01\n",
      "   --------------- ------------------------ 1.5/3.8 MB 9.5 MB/s eta 0:00:01\n",
      "   ------------------ --------------------- 1.8/3.8 MB 8.7 MB/s eta 0:00:01\n",
      "   --------------------- ------------------ 2.1/3.8 MB 8.3 MB/s eta 0:00:01\n",
      "   ----------------------- ---------------- 2.2/3.8 MB 7.4 MB/s eta 0:00:01\n",
      "   -------------------------- ------------- 2.5/3.8 MB 7.4 MB/s eta 0:00:01\n",
      "   --------------------------- ------------ 2.6/3.8 MB 7.0 MB/s eta 0:00:01\n",
      "   -------------------------------- ------- 3.1/3.8 MB 7.0 MB/s eta 0:00:01\n",
      "   ----------------------------------- ---- 3.4/3.8 MB 7.0 MB/s eta 0:00:01\n",
      "   ---------------------------------------- 3.8/3.8 MB 7.2 MB/s eta 0:00:00\n",
      "Downloading PyQt5_Qt5-5.15.2-py3-none-win_amd64.whl (50.1 MB)\n",
      "   ---------------------------------------- 0.0/50.1 MB ? eta -:--:--\n",
      "   ---------------------------------------- 0.4/50.1 MB 12.9 MB/s eta 0:00:04\n",
      "    --------------------------------------- 0.9/50.1 MB 11.8 MB/s eta 0:00:05\n",
      "   - -------------------------------------- 1.5/50.1 MB 12.0 MB/s eta 0:00:05\n",
      "   - -------------------------------------- 2.0/50.1 MB 11.5 MB/s eta 0:00:05\n",
      "   -- ------------------------------------- 2.6/50.1 MB 11.9 MB/s eta 0:00:04\n",
      "   -- ------------------------------------- 2.9/50.1 MB 10.8 MB/s eta 0:00:05\n",
      "   -- ------------------------------------- 3.4/50.1 MB 10.9 MB/s eta 0:00:05\n",
      "   -- ------------------------------------- 3.7/50.1 MB 10.2 MB/s eta 0:00:05\n",
      "   --- ------------------------------------ 4.1/50.1 MB 10.1 MB/s eta 0:00:05\n",
      "   --- ------------------------------------ 4.3/50.1 MB 9.5 MB/s eta 0:00:05\n",
      "   --- ------------------------------------ 4.6/50.1 MB 9.2 MB/s eta 0:00:05\n",
      "   --- ------------------------------------ 4.9/50.1 MB 9.3 MB/s eta 0:00:05\n",
      "   ---- ----------------------------------- 5.4/50.1 MB 9.2 MB/s eta 0:00:05\n",
      "   ---- ----------------------------------- 5.9/50.1 MB 9.2 MB/s eta 0:00:05\n",
      "   ---- ----------------------------------- 6.2/50.1 MB 9.0 MB/s eta 0:00:05\n",
      "   ----- ---------------------------------- 6.5/50.1 MB 8.8 MB/s eta 0:00:05\n",
      "   ----- ---------------------------------- 6.7/50.1 MB 8.6 MB/s eta 0:00:06\n",
      "   ----- ---------------------------------- 7.3/50.1 MB 8.8 MB/s eta 0:00:05\n",
      "   ------ --------------------------------- 7.6/50.1 MB 8.8 MB/s eta 0:00:05\n",
      "   ------ --------------------------------- 8.1/50.1 MB 8.7 MB/s eta 0:00:05\n",
      "   ------ --------------------------------- 8.4/50.1 MB 8.8 MB/s eta 0:00:05\n",
      "   ------ --------------------------------- 8.6/50.1 MB 8.6 MB/s eta 0:00:05\n",
      "   ------ --------------------------------- 8.7/50.1 MB 8.3 MB/s eta 0:00:05\n",
      "   ------- -------------------------------- 8.9/50.1 MB 8.0 MB/s eta 0:00:06\n",
      "   ------- -------------------------------- 9.1/50.1 MB 7.9 MB/s eta 0:00:06\n",
      "   ------- -------------------------------- 9.3/50.1 MB 7.8 MB/s eta 0:00:06\n",
      "   ------- -------------------------------- 9.5/50.1 MB 7.7 MB/s eta 0:00:06\n",
      "   ------- -------------------------------- 9.7/50.1 MB 7.6 MB/s eta 0:00:06\n",
      "   -------- ------------------------------- 10.0/50.1 MB 7.6 MB/s eta 0:00:06\n",
      "   -------- ------------------------------- 10.3/50.1 MB 7.4 MB/s eta 0:00:06\n",
      "   -------- ------------------------------- 10.5/50.1 MB 7.3 MB/s eta 0:00:06\n",
      "   -------- ------------------------------- 10.7/50.1 MB 7.2 MB/s eta 0:00:06\n",
      "   -------- ------------------------------- 10.8/50.1 MB 7.2 MB/s eta 0:00:06\n",
      "   -------- ------------------------------- 11.0/50.1 MB 6.8 MB/s eta 0:00:06\n",
      "   -------- ------------------------------- 11.2/50.1 MB 6.7 MB/s eta 0:00:06\n",
      "   --------- ------------------------------ 11.3/50.1 MB 6.5 MB/s eta 0:00:06\n",
      "   --------- ------------------------------ 11.5/50.1 MB 6.4 MB/s eta 0:00:07\n",
      "   --------- ------------------------------ 11.6/50.1 MB 6.3 MB/s eta 0:00:07\n",
      "   --------- ------------------------------ 11.7/50.1 MB 6.1 MB/s eta 0:00:07\n",
      "   --------- ------------------------------ 11.9/50.1 MB 6.0 MB/s eta 0:00:07\n",
      "   --------- ------------------------------ 12.1/50.1 MB 6.0 MB/s eta 0:00:07\n",
      "   --------- ------------------------------ 12.4/50.1 MB 5.8 MB/s eta 0:00:07\n",
      "   ---------- ----------------------------- 12.9/50.1 MB 5.8 MB/s eta 0:00:07\n",
      "   ---------- ----------------------------- 13.4/50.1 MB 5.8 MB/s eta 0:00:07\n",
      "   ---------- ----------------------------- 13.7/50.1 MB 5.8 MB/s eta 0:00:07\n",
      "   ----------- ---------------------------- 14.1/50.1 MB 5.8 MB/s eta 0:00:07\n",
      "   ----------- ---------------------------- 14.6/50.1 MB 6.1 MB/s eta 0:00:06\n",
      "   ----------- ---------------------------- 14.9/50.1 MB 6.0 MB/s eta 0:00:06\n",
      "   ------------ --------------------------- 15.3/50.1 MB 6.1 MB/s eta 0:00:06\n",
      "   ------------ --------------------------- 15.6/50.1 MB 6.0 MB/s eta 0:00:06\n",
      "   ------------ --------------------------- 15.7/50.1 MB 5.8 MB/s eta 0:00:06\n",
      "   ------------ --------------------------- 16.1/50.1 MB 5.8 MB/s eta 0:00:06\n",
      "   ------------- -------------------------- 16.4/50.1 MB 5.8 MB/s eta 0:00:06\n",
      "   ------------- -------------------------- 16.7/50.1 MB 5.9 MB/s eta 0:00:06\n",
      "   ------------- -------------------------- 17.0/50.1 MB 5.8 MB/s eta 0:00:06\n",
      "   ------------- -------------------------- 17.3/50.1 MB 5.8 MB/s eta 0:00:06\n",
      "   -------------- ------------------------- 17.6/50.1 MB 5.7 MB/s eta 0:00:06\n",
      "   -------------- ------------------------- 18.1/50.1 MB 5.7 MB/s eta 0:00:06\n",
      "   -------------- ------------------------- 18.5/50.1 MB 5.7 MB/s eta 0:00:06\n",
      "   --------------- ------------------------ 19.1/50.1 MB 6.2 MB/s eta 0:00:06\n",
      "   --------------- ------------------------ 19.5/50.1 MB 6.2 MB/s eta 0:00:05\n",
      "   ---------------- ----------------------- 20.1/50.1 MB 6.6 MB/s eta 0:00:05\n",
      "   ---------------- ----------------------- 20.6/50.1 MB 6.8 MB/s eta 0:00:05\n",
      "   ---------------- ----------------------- 21.1/50.1 MB 7.2 MB/s eta 0:00:05\n",
      "   ----------------- ---------------------- 21.7/50.1 MB 7.7 MB/s eta 0:00:04\n",
      "   ----------------- ---------------------- 22.1/50.1 MB 8.4 MB/s eta 0:00:04\n",
      "   ------------------ --------------------- 22.7/50.1 MB 8.8 MB/s eta 0:00:04\n",
      "   ------------------ --------------------- 23.2/50.1 MB 8.8 MB/s eta 0:00:04\n",
      "   ------------------ --------------------- 23.8/50.1 MB 8.8 MB/s eta 0:00:03\n",
      "   ------------------- -------------------- 24.2/50.1 MB 9.2 MB/s eta 0:00:03\n",
      "   ------------------- -------------------- 24.6/50.1 MB 9.1 MB/s eta 0:00:03\n",
      "   -------------------- ------------------- 25.1/50.1 MB 9.2 MB/s eta 0:00:03\n",
      "   -------------------- ------------------- 25.6/50.1 MB 9.5 MB/s eta 0:00:03\n",
      "   -------------------- ------------------- 26.2/50.1 MB 9.8 MB/s eta 0:00:03\n",
      "   --------------------- ------------------ 26.6/50.1 MB 10.1 MB/s eta 0:00:03\n",
      "   --------------------- ------------------ 27.1/50.1 MB 10.4 MB/s eta 0:00:03\n",
      "   --------------------- ------------------ 27.4/50.1 MB 10.2 MB/s eta 0:00:03\n",
      "   ---------------------- ----------------- 27.7/50.1 MB 10.4 MB/s eta 0:00:03\n",
      "   ---------------------- ----------------- 28.3/50.1 MB 10.4 MB/s eta 0:00:03\n",
      "   ----------------------- ---------------- 28.9/50.1 MB 10.7 MB/s eta 0:00:02\n",
      "   ----------------------- ---------------- 29.4/50.1 MB 10.7 MB/s eta 0:00:02\n",
      "   ----------------------- ---------------- 30.0/50.1 MB 10.7 MB/s eta 0:00:02\n",
      "   ------------------------ --------------- 30.4/50.1 MB 10.7 MB/s eta 0:00:02\n",
      "   ------------------------ --------------- 31.0/50.1 MB 10.7 MB/s eta 0:00:02\n",
      "   ------------------------- -------------- 31.5/50.1 MB 10.7 MB/s eta 0:00:02\n",
      "   ------------------------- -------------- 31.9/50.1 MB 10.6 MB/s eta 0:00:02\n",
      "   ------------------------- -------------- 32.5/50.1 MB 10.7 MB/s eta 0:00:02\n",
      "   -------------------------- ------------- 32.9/50.1 MB 10.4 MB/s eta 0:00:02\n",
      "   -------------------------- ------------- 33.5/50.1 MB 10.6 MB/s eta 0:00:02\n",
      "   --------------------------- ------------ 34.0/50.1 MB 10.6 MB/s eta 0:00:02\n",
      "   --------------------------- ------------ 34.7/50.1 MB 10.9 MB/s eta 0:00:02\n",
      "   ---------------------------- ----------- 35.2/50.1 MB 10.9 MB/s eta 0:00:02\n",
      "   ---------------------------- ----------- 35.7/50.1 MB 10.9 MB/s eta 0:00:02\n",
      "   ---------------------------- ----------- 36.2/50.1 MB 11.1 MB/s eta 0:00:02\n",
      "   ----------------------------- ---------- 36.8/50.1 MB 10.9 MB/s eta 0:00:02\n",
      "   ----------------------------- ---------- 37.4/50.1 MB 11.1 MB/s eta 0:00:02\n",
      "   ------------------------------ --------- 37.9/50.1 MB 11.7 MB/s eta 0:00:02\n",
      "   ------------------------------ --------- 38.4/50.1 MB 11.7 MB/s eta 0:00:01\n",
      "   ------------------------------- -------- 38.9/50.1 MB 11.5 MB/s eta 0:00:01\n",
      "   ------------------------------- -------- 39.5/50.1 MB 11.7 MB/s eta 0:00:01\n",
      "   ------------------------------- -------- 40.0/50.1 MB 11.5 MB/s eta 0:00:01\n",
      "   -------------------------------- ------- 40.6/50.1 MB 11.7 MB/s eta 0:00:01\n",
      "   -------------------------------- ------- 41.0/50.1 MB 11.5 MB/s eta 0:00:01\n",
      "   --------------------------------- ------ 41.6/50.1 MB 11.5 MB/s eta 0:00:01\n",
      "   --------------------------------- ------ 42.1/50.1 MB 11.7 MB/s eta 0:00:01\n",
      "   ---------------------------------- ----- 42.7/50.1 MB 11.7 MB/s eta 0:00:01\n",
      "   ---------------------------------- ----- 43.3/50.1 MB 11.9 MB/s eta 0:00:01\n",
      "   ---------------------------------- ----- 43.7/50.1 MB 11.5 MB/s eta 0:00:01\n",
      "   ----------------------------------- ---- 44.3/50.1 MB 11.7 MB/s eta 0:00:01\n",
      "   ----------------------------------- ---- 44.8/50.1 MB 11.5 MB/s eta 0:00:01\n",
      "   ------------------------------------ --- 45.4/50.1 MB 11.5 MB/s eta 0:00:01\n",
      "   ------------------------------------ --- 45.9/50.1 MB 11.5 MB/s eta 0:00:01\n",
      "   ------------------------------------- -- 46.5/50.1 MB 11.7 MB/s eta 0:00:01\n",
      "   ------------------------------------- -- 46.8/50.1 MB 11.3 MB/s eta 0:00:01\n",
      "   ------------------------------------- -- 47.0/50.1 MB 11.3 MB/s eta 0:00:01\n",
      "   ------------------------------------- -- 47.3/50.1 MB 10.9 MB/s eta 0:00:01\n",
      "   ------------------------------------- -- 47.5/50.1 MB 10.6 MB/s eta 0:00:01\n",
      "   -------------------------------------- - 47.7/50.1 MB 10.2 MB/s eta 0:00:01\n",
      "   -------------------------------------- - 48.0/50.1 MB 9.9 MB/s eta 0:00:01\n",
      "   -------------------------------------- - 48.5/50.1 MB 9.9 MB/s eta 0:00:01\n",
      "   ---------------------------------------  48.9/50.1 MB 9.9 MB/s eta 0:00:01\n",
      "   ---------------------------------------  49.5/50.1 MB 9.9 MB/s eta 0:00:01\n",
      "   ---------------------------------------  49.8/50.1 MB 9.6 MB/s eta 0:00:01\n",
      "   ---------------------------------------  50.1/50.1 MB 9.6 MB/s eta 0:00:01\n",
      "   ---------------------------------------  50.1/50.1 MB 9.6 MB/s eta 0:00:01\n",
      "   ---------------------------------------- 50.1/50.1 MB 9.1 MB/s eta 0:00:00\n",
      "Downloading PyQt5_sip-12.13.0-cp312-cp312-win_amd64.whl (77 kB)\n",
      "   ---------------------------------------- 0.0/77.7 kB ? eta -:--:--\n",
      "   ---------------------------------------- 77.7/77.7 kB 4.5 MB/s eta 0:00:00\n",
      "Installing collected packages: PyQt5-Qt5, PyQt5-sip, lxml, pyqt5\n",
      "Successfully installed PyQt5-Qt5-5.15.2 PyQt5-sip-12.13.0 lxml-5.2.2 pyqt5-5.15.10\n"
     ]
    }
   ],
   "source": [
    "!pip install --upgrade pyqt5 lxml"
   ]
  },
  {
   "cell_type": "code",
   "execution_count": 12,
   "metadata": {},
   "outputs": [
    {
     "name": "stdout",
     "output_type": "stream",
     "text": [
      "Package                   Version\n",
      "------------------------- --------------\n",
      "anyio                     4.4.0\n",
      "argon2-cffi               23.1.0\n",
      "argon2-cffi-bindings      21.2.0\n",
      "arrow                     1.3.0\n",
      "asttokens                 2.4.1\n",
      "async-lru                 2.0.4\n",
      "attrs                     23.2.0\n",
      "Babel                     2.15.0\n",
      "beautifulsoup4            4.12.3\n",
      "bleach                    6.1.0\n",
      "certifi                   2024.2.2\n",
      "cffi                      1.16.0\n",
      "charset-normalizer        3.3.2\n",
      "colorama                  0.4.6\n",
      "comm                      0.2.2\n",
      "debugpy                   1.8.1\n",
      "decorator                 5.1.1\n",
      "defusedxml                0.7.1\n",
      "executing                 2.0.1\n",
      "fastjsonschema            2.19.1\n",
      "fqdn                      1.5.1\n",
      "h11                       0.14.0\n",
      "httpcore                  1.0.5\n",
      "httpx                     0.27.0\n",
      "idna                      3.7\n",
      "ipykernel                 6.29.4\n",
      "ipython                   8.25.0\n",
      "isoduration               20.11.0\n",
      "jedi                      0.19.1\n",
      "Jinja2                    3.1.4\n",
      "json5                     0.9.25\n",
      "jsonpointer               2.4\n",
      "jsonschema                4.22.0\n",
      "jsonschema-specifications 2023.12.1\n",
      "jupyter_client            8.6.2\n",
      "jupyter_core              5.7.2\n",
      "jupyter-events            0.10.0\n",
      "jupyter-lsp               2.2.5\n",
      "jupyter_server            2.14.1\n",
      "jupyter_server_terminals  0.5.3\n",
      "jupyterlab                4.2.1\n",
      "jupyterlab_pygments       0.3.0\n",
      "jupyterlab_server         2.27.2\n",
      "lxml                      5.2.2\n",
      "MarkupSafe                2.1.5\n",
      "matplotlib-inline         0.1.7\n",
      "mistune                   3.0.2\n",
      "nbclient                  0.10.0\n",
      "nbconvert                 7.16.4\n",
      "nbformat                  5.10.4\n",
      "nest-asyncio              1.6.0\n",
      "notebook                  7.2.0\n",
      "notebook_shim             0.2.4\n",
      "numpy                     1.26.4\n",
      "opencv-python             4.9.0.80\n",
      "overrides                 7.7.0\n",
      "packaging                 24.0\n",
      "pandocfilters             1.5.1\n",
      "parso                     0.8.4\n",
      "pip                       24.0\n",
      "platformdirs              4.2.2\n",
      "prometheus_client         0.20.0\n",
      "prompt_toolkit            3.0.45\n",
      "psutil                    5.9.8\n",
      "pure-eval                 0.2.2\n",
      "pycparser                 2.22\n",
      "Pygments                  2.18.0\n",
      "PyQt5                     5.15.10\n",
      "PyQt5-Qt5                 5.15.2\n",
      "PyQt5-sip                 12.13.0\n",
      "python-dateutil           2.9.0.post0\n",
      "python-json-logger        2.0.7\n",
      "pywin32                   306\n",
      "pywinpty                  2.0.13\n",
      "PyYAML                    6.0.1\n",
      "pyzmq                     26.0.3\n",
      "referencing               0.35.1\n",
      "requests                  2.32.3\n",
      "rfc3339-validator         0.1.4\n",
      "rfc3986-validator         0.1.1\n",
      "rpds-py                   0.18.1\n",
      "Send2Trash                1.8.3\n",
      "six                       1.16.0\n",
      "sniffio                   1.3.1\n",
      "soupsieve                 2.5\n",
      "stack-data                0.6.3\n",
      "terminado                 0.18.1\n",
      "tinycss2                  1.3.0\n",
      "tornado                   6.4\n",
      "traitlets                 5.14.3\n",
      "types-python-dateutil     2.9.0.20240316\n",
      "uri-template              1.3.0\n",
      "urllib3                   2.2.1\n",
      "wcwidth                   0.2.13\n",
      "webcolors                 1.13\n",
      "webencodings              0.5.1\n",
      "websocket-client          1.8.0\n"
     ]
    }
   ],
   "source": [
    "!pip list\n"
   ]
  },
  {
   "cell_type": "code",
   "execution_count": 13,
   "metadata": {},
   "outputs": [],
   "source": [
    "LABELIMG_PATH = os.path.join('Tensorflow', 'labelimg')"
   ]
  },
  {
   "cell_type": "code",
   "execution_count": 14,
   "metadata": {},
   "outputs": [
    {
     "name": "stderr",
     "output_type": "stream",
     "text": [
      "Cloning into 'Tensorflow\\labelimg'...\n"
     ]
    }
   ],
   "source": [
    "if not os.path.exists(LABELIMG_PATH):\n",
    "    !mkdir {LABELIMG_PATH}\n",
    "    !git clone https://github.com/tzutalin/labelImg {LABELIMG_PATH}"
   ]
  },
  {
   "cell_type": "code",
   "execution_count": 15,
   "metadata": {},
   "outputs": [],
   "source": [
    "if os.name == 'posix':\n",
    "    !make qt5py3\n",
    "if os.name =='nt':\n",
    "    !cd {LABELIMG_PATH} && pyrcc5 -o libs/resources.py resources.qrc"
   ]
  },
  {
   "cell_type": "code",
   "execution_count": 16,
   "metadata": {},
   "outputs": [
    {
     "name": "stdout",
     "output_type": "stream",
     "text": [
      "Image:D:\\TensorFlow Project\\TFODCourse\\Tensorflow\\workspace\\images\\collectedimages\\livelong\\livelong.c7af3453-1f56-11ef-bf45-d57d1eca3952.jpg -> Annotation:D:/TensorFlow Project/TFODCourse/Tensorflow/workspace/images/collectedimages/livelong\\livelong.c7af3453-1f56-11ef-bf45-d57d1eca3952.xml\n",
      "Image:D:\\TensorFlow Project\\TFODCourse\\Tensorflow\\workspace\\images\\collectedimages\\livelong\\livelong.c7af3453-1f56-11ef-bf45-d57d1eca3952.jpg -> Annotation:D:/TensorFlow Project/TFODCourse/Tensorflow/workspace/images/collectedimages/livelong\\livelong.c7af3453-1f56-11ef-bf45-d57d1eca3952.xml\n",
      "Image:D:\\TensorFlow Project\\TFODCourse\\Tensorflow\\workspace\\images\\collectedimages\\livelong\\livelong.c7af3453-1f56-11ef-bf45-d57d1eca3952.jpg -> Annotation:D:/TensorFlow Project/TFODCourse/Tensorflow/workspace/images/collectedimages/livelong\\livelong.c7af3453-1f56-11ef-bf45-d57d1eca3952.xml\n",
      "Image:D:\\TensorFlow Project\\TFODCourse\\Tensorflow\\workspace\\images\\collectedimages\\livelong\\livelong.c7af3453-1f56-11ef-bf45-d57d1eca3952.jpg -> Annotation:D:/TensorFlow Project/TFODCourse/Tensorflow/workspace/images/collectedimages/livelong\\livelong.c7af3453-1f56-11ef-bf45-d57d1eca3952.xml\n",
      "Image:D:\\TensorFlow Project\\TFODCourse\\Tensorflow\\workspace\\images\\collectedimages\\livelong\\livelong.c7af3453-1f56-11ef-bf45-d57d1eca3952.jpg -> Annotation:D:/TensorFlow Project/TFODCourse/Tensorflow/workspace/images/collectedimages/livelong\\livelong.c7af3453-1f56-11ef-bf45-d57d1eca3952.xml\n",
      "Image:D:\\TensorFlow Project\\TFODCourse\\Tensorflow\\workspace\\images\\collectedimages\\livelong\\livelong.c7af3453-1f56-11ef-bf45-d57d1eca3952.jpg -> Annotation:D:/TensorFlow Project/TFODCourse/Tensorflow/workspace/images/collectedimages/livelong\\livelong.c7af3453-1f56-11ef-bf45-d57d1eca3952.xml\n",
      "Cancel creation.\n",
      "Image:D:\\TensorFlow Project\\TFODCourse\\Tensorflow\\workspace\\images\\collectedimages\\livelong\\livelong.c8e2ba14-1f56-11ef-bb6c-d57d1eca3952.jpg -> Annotation:D:/TensorFlow Project/TFODCourse/Tensorflow/workspace/images/collectedimages/livelong\\livelong.c8e2ba14-1f56-11ef-bb6c-d57d1eca3952.xml\n",
      "Cancel creation.\n",
      "Image:D:\\TensorFlow Project\\TFODCourse\\Tensorflow\\workspace\\images\\collectedimages\\livelong\\livelong.c67b918b-1f56-11ef-a8d3-d57d1eca3952.jpg -> Annotation:D:/TensorFlow Project/TFODCourse/Tensorflow/workspace/images/collectedimages/livelong\\livelong.c67b918b-1f56-11ef-a8d3-d57d1eca3952.xml\n",
      "Image:D:\\TensorFlow Project\\TFODCourse\\Tensorflow\\workspace\\images\\collectedimages\\livelong\\livelong.c4149140-1f56-11ef-89b4-d57d1eca3952.jpg -> Annotation:D:/TensorFlow Project/TFODCourse/Tensorflow/workspace/images/collectedimages/livelong\\livelong.c4149140-1f56-11ef-89b4-d57d1eca3952.xml\n",
      "Image:D:\\TensorFlow Project\\TFODCourse\\Tensorflow\\workspace\\images\\collectedimages\\livelong\\livelong.c547de0d-1f56-11ef-a6d7-d57d1eca3952.jpg -> Annotation:D:/TensorFlow Project/TFODCourse/Tensorflow/workspace/images/collectedimages/livelong\\livelong.c547de0d-1f56-11ef-a6d7-d57d1eca3952.xml\n",
      "Image:D:\\TensorFlow Project\\TFODCourse\\Tensorflow\\workspace\\images\\collectedimages\\thankyou\\thankyou.b9eaa178-1f56-11ef-a2db-d57d1eca3952.jpg -> Annotation:D:/TensorFlow Project/TFODCourse/Tensorflow/workspace/images/collectedimages/thankyou\\thankyou.b9eaa178-1f56-11ef-a2db-d57d1eca3952.xml\n",
      "Image:D:\\TensorFlow Project\\TFODCourse\\Tensorflow\\workspace\\images\\collectedimages\\thankyou\\thankyou.bb1e0e0d-1f56-11ef-8b10-d57d1eca3952.jpg -> Annotation:D:/TensorFlow Project/TFODCourse/Tensorflow/workspace/images/collectedimages/thankyou\\thankyou.bb1e0e0d-1f56-11ef-8b10-d57d1eca3952.xml\n",
      "Image:D:\\TensorFlow Project\\TFODCourse\\Tensorflow\\workspace\\images\\collectedimages\\thankyou\\thankyou.bc51a55d-1f56-11ef-bbbe-d57d1eca3952.jpg -> Annotation:D:/TensorFlow Project/TFODCourse/Tensorflow/workspace/images/collectedimages/thankyou\\thankyou.bc51a55d-1f56-11ef-bbbe-d57d1eca3952.xml\n",
      "Image:D:\\TensorFlow Project\\TFODCourse\\Tensorflow\\workspace\\images\\collectedimages\\thankyou\\thankyou.bd85559a-1f56-11ef-8275-d57d1eca3952.jpg -> Annotation:D:/TensorFlow Project/TFODCourse/Tensorflow/workspace/images/collectedimages/thankyou\\thankyou.bd85559a-1f56-11ef-8275-d57d1eca3952.xml\n",
      "Image:D:\\TensorFlow Project\\TFODCourse\\Tensorflow\\workspace\\images\\collectedimages\\thankyou\\thankyou.beb8a638-1f56-11ef-b199-d57d1eca3952.jpg -> Annotation:D:/TensorFlow Project/TFODCourse/Tensorflow/workspace/images/collectedimages/thankyou\\thankyou.beb8a638-1f56-11ef-b199-d57d1eca3952.xml\n",
      "Image:D:\\TensorFlow Project\\TFODCourse\\Tensorflow\\workspace\\images\\collectedimages\\thumbsdown\\thumbsdown.afb4987b-1f56-11ef-821e-d57d1eca3952.jpg -> Annotation:D:/TensorFlow Project/TFODCourse/Tensorflow/workspace/images/collectedimages/thumbsdown\\thumbsdown.afb4987b-1f56-11ef-821e-d57d1eca3952.xml\n",
      "Image:D:\\TensorFlow Project\\TFODCourse\\Tensorflow\\workspace\\images\\collectedimages\\thumbsdown\\thumbsdown.b4860559-1f56-11ef-b978-d57d1eca3952.jpg -> Annotation:D:/TensorFlow Project/TFODCourse/Tensorflow/workspace/images/collectedimages/thumbsdown\\thumbsdown.b4860559-1f56-11ef-b978-d57d1eca3952.xml\n",
      "Image:D:\\TensorFlow Project\\TFODCourse\\Tensorflow\\workspace\\images\\collectedimages\\thumbsdown\\thumbsdown.e022db83-1f57-11ef-955b-d57d1eca3952.jpg -> Annotation:D:/TensorFlow Project/TFODCourse/Tensorflow/workspace/images/collectedimages/thumbsdown\\thumbsdown.e022db83-1f57-11ef-955b-d57d1eca3952.xml\n",
      "Image:D:\\TensorFlow Project\\TFODCourse\\Tensorflow\\workspace\\images\\collectedimages\\thumbsdown\\thumbsdown.e28a371f-1f57-11ef-8454-d57d1eca3952.jpg -> Annotation:D:/TensorFlow Project/TFODCourse/Tensorflow/workspace/images/collectedimages/thumbsdown\\thumbsdown.e28a371f-1f57-11ef-8454-d57d1eca3952.xml\n",
      "Image:D:\\TensorFlow Project\\TFODCourse\\Tensorflow\\workspace\\images\\collectedimages\\thumbsdown\\thumbsdown.e1569952-1f57-11ef-b55c-d57d1eca3952.jpg -> Annotation:D:/TensorFlow Project/TFODCourse/Tensorflow/workspace/images/collectedimages/thumbsdown\\thumbsdown.e1569952-1f57-11ef-b55c-d57d1eca3952.xml\n",
      "Image:D:\\TensorFlow Project\\TFODCourse\\Tensorflow\\workspace\\images\\collectedimages\\thumbsup\\thumbsup.a902e3c0-1f57-11ef-b58c-d57d1eca3952.jpg -> Annotation:D:/TensorFlow Project/TFODCourse/Tensorflow/workspace/images/collectedimages/thumbsup\\thumbsup.a902e3c0-1f57-11ef-b58c-d57d1eca3952.xml\n",
      "Image:D:\\TensorFlow Project\\TFODCourse\\Tensorflow\\workspace\\images\\collectedimages\\thumbsup\\thumbsup.a928b14f-1f56-11ef-acc0-d57d1eca3952.jpg -> Annotation:D:/TensorFlow Project/TFODCourse/Tensorflow/workspace/images/collectedimages/thumbsup\\thumbsup.a928b14f-1f56-11ef-acc0-d57d1eca3952.xml\n",
      "Image:D:\\TensorFlow Project\\TFODCourse\\Tensorflow\\workspace\\images\\collectedimages\\thumbsup\\thumbsup.aa3f7947-1f57-11ef-a69c-d57d1eca3952.jpg -> Annotation:D:/TensorFlow Project/TFODCourse/Tensorflow/workspace/images/collectedimages/thumbsup\\thumbsup.aa3f7947-1f57-11ef-a69c-d57d1eca3952.xml\n",
      "Image:D:\\TensorFlow Project\\TFODCourse\\Tensorflow\\workspace\\images\\collectedimages\\thumbsup\\thumbsup.aa5da17d-1f56-11ef-96d5-d57d1eca3952.jpg -> Annotation:D:/TensorFlow Project/TFODCourse/Tensorflow/workspace/images/collectedimages/thumbsup\\thumbsup.aa5da17d-1f56-11ef-96d5-d57d1eca3952.xml\n",
      "Image:D:\\TensorFlow Project\\TFODCourse\\Tensorflow\\workspace\\images\\collectedimages\\thumbsup\\thumbsup.acaee298-1f57-11ef-81be-d57d1eca3952.jpg -> Annotation:D:/TensorFlow Project/TFODCourse/Tensorflow/workspace/images/collectedimages/thumbsup\\thumbsup.acaee298-1f57-11ef-81be-d57d1eca3952.xml\n",
      "Image:D:\\TensorFlow Project\\TFODCourse\\Tensorflow\\workspace\\images\\collectedimages\\thumbsup\\thumbsup.ade28948-1f57-11ef-a712-d57d1eca3952.jpg -> Annotation:D:/TensorFlow Project/TFODCourse/Tensorflow/workspace/images/collectedimages/thumbsup\\thumbsup.ade28948-1f57-11ef-a712-d57d1eca3952.xml\n"
     ]
    }
   ],
   "source": [
    "!cd {LABELIMG_PATH} && python labelImg.py"
   ]
  },
  {
   "cell_type": "markdown",
   "metadata": {},
   "source": [
    "# 6. Move them into a Training and Testing Partition"
   ]
  },
  {
   "cell_type": "markdown",
   "metadata": {},
   "source": [
    "# OPTIONAL - 7. Compress them for Colab Training"
   ]
  },
  {
   "cell_type": "code",
   "execution_count": 20,
   "metadata": {},
   "outputs": [],
   "source": [
    "TRAIN_PATH = os.path.join('Tensorflow', 'workspace', 'images', 'train')\n",
    "TEST_PATH = os.path.join('Tensorflow', 'workspace', 'images', 'test')\n",
    "ARCHIVE_PATH = os.path.join('Tensorflow', 'workspace', 'images', 'archive.tar.gz')"
   ]
  },
  {
   "cell_type": "code",
   "execution_count": 21,
   "metadata": {},
   "outputs": [],
   "source": [
    "!tar -czf {ARCHIVE_PATH} {TRAIN_PATH} {TEST_PATH}"
   ]
  },
  {
   "cell_type": "code",
   "execution_count": null,
   "metadata": {},
   "outputs": [],
   "source": []
  }
 ],
 "metadata": {
  "kernelspec": {
   "display_name": "tfodj",
   "language": "python",
   "name": "tfodj"
  },
  "language_info": {
   "codemirror_mode": {
    "name": "ipython",
    "version": 3
   },
   "file_extension": ".py",
   "mimetype": "text/x-python",
   "name": "python",
   "nbconvert_exporter": "python",
   "pygments_lexer": "ipython3",
   "version": "3.12.3"
  }
 },
 "nbformat": 4,
 "nbformat_minor": 4
}
